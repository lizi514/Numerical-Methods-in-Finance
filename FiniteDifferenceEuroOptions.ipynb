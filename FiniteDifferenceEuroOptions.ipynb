{
  "nbformat": 4,
  "nbformat_minor": 0,
  "metadata": {
    "colab": {
      "name": "FiniteDifferenceEuroOptions",
      "provenance": [],
      "collapsed_sections": []
    },
    "kernelspec": {
      "name": "python3",
      "display_name": "Python 3"
    }
  },
  "cells": [
    {
      "cell_type": "markdown",
      "metadata": {
        "id": "ZQ9-l3B813Cf",
        "colab_type": "text"
      },
      "source": [
        "# **Finite difference method for solving Black-Scholes PDE**\n",
        "\n",
        "To price a European option with payoff function $(S_T-K)^{+}$ under Black-Scholes model, we need to solve the PDE\n",
        "\n",
        "\\begin{align}\n",
        "\\frac{\\partial V}{\\partial t}&=\\frac{\\sigma^2 s^2}{2}\\frac{\\partial^2 V}{\\partial s^2} + rs\\frac{\\partial V}{\\partial s} -rV,& t>0 \\\\\n",
        "V(0,s)&=(s-K)^{+},& t=0\n",
        "\\end{align}\n",
        "\n",
        "(Assuming that the time direction has already been reversed such that we work with a PDE with initial condition)\n",
        "\n",
        "We begin by fixing the market parameters.\n"
      ]
    },
    {
      "cell_type": "code",
      "metadata": {
        "id": "8cjFU9RxHe-F",
        "colab_type": "code",
        "colab": {}
      },
      "source": [
        "import numpy as np\n",
        "import scipy.stats as si\n",
        "from scipy.sparse import diags\n",
        "from scipy.linalg import solve_triangular\n",
        "import matplotlib.pyplot as plt\n",
        "\n",
        "# Market and option parameters\n",
        "K, r, sigma, T = 100, 0.01, 0.2, 1"
      ],
      "execution_count": null,
      "outputs": []
    },
    {
      "cell_type": "markdown",
      "metadata": {
        "id": "J4BuQClRFNTe",
        "colab_type": "text"
      },
      "source": [
        "# *Setup of the grid and boundary condition*\n",
        "\n",
        "*Boundary condition*\n",
        "\n",
        "In this example we will work with the domain of $(t,s)$ directly which is truncated to $D:=[0,T]\\times [s_{min},s_{max}]$. Since a call option is involved, we impose the boundary conditions\n",
        "\\begin{align}\n",
        "V(t,s_{min})=\\ell(t,s_{min})=0,\\qquad V(t,s_{max})=u(t,s_{max})=s_{max}-Ke^{-rt} \\qquad \\text{for all } t<T\n",
        "\\end{align}\n",
        "<br>\n",
        "<br>\n",
        "*Grid specification*\n",
        "\n",
        "We construct a uniform grid over $D$ with $N+1$ points along the time dimension and $M+1$ points along the space dimension. Let\n",
        "\\begin{align*}\n",
        "\\triangle t:=\\frac{T}{N},\\qquad \\triangle x:=\\frac{s_{max}-s_{min}}{M}.\n",
        "\\end{align*}\n",
        "Then the values of the grid points are given by\n",
        "\\begin{align*}\n",
        "t_n&:=n\\triangle t,& n=0,1,...,N \\\\\n",
        "s_k&:=s_{min}+k\\triangle x,& k=0,1,...,M\n",
        "\\end{align*}"
      ]
    },
    {
      "cell_type": "code",
      "metadata": {
        "id": "mIdYbcKN1wcg",
        "colab_type": "code",
        "colab": {}
      },
      "source": [
        "# Grid parameters\n",
        "s_min, s_max = 10, 150\n",
        "N, M = 1000, 100\n",
        "\n",
        "# Setup of grids\n",
        "dt = T/N\n",
        "dx = (s_max - s_min)/M\n",
        "s = np.linspace(s_min, s_max, M+1)\n",
        "t = np.linspace(0, T, N+1)"
      ],
      "execution_count": null,
      "outputs": []
    },
    {
      "cell_type": "markdown",
      "metadata": {
        "id": "v18VR2ySFIlh",
        "colab_type": "text"
      },
      "source": [
        "# *Explicit scheme*\n",
        "\n",
        "Under explicit scheme the PDE can be discretised as\n",
        "\n",
        "\\begin{align*}\n",
        "\\frac{V^{n+1}_k-V^n_{k}}{\\triangle t}&=\\frac{\\sigma^2 s_k^2}{2}\\frac{V^{n}_{k+1}-2V^n_k+V^n_{k-1}}{\\triangle x^2}\n",
        "+rs_k \\frac{V^{n}_{k+1}-V^n_{k-1}}{2\\triangle x}-r V^n_k \\\\\n",
        "\\implies \\quad V^{n+1}_k&=\\left(\\frac{\\triangle t}{\\triangle x^2}\\frac{\\sigma^2 s_k^2}{2}-\\frac{\\triangle t}{2\\triangle x}rs_k\\right)V^{n}_{k-1}+\\left(1-\\frac{ \\triangle t}{\\triangle x^2}\\sigma^2 s_k^2-\\triangle t r\\right)V^n_k\\\\\n",
        "&\\qquad +\\left(\\frac{\\triangle t}{\\triangle x^2}\\frac{\\sigma^2 s_k^2}{2}+\\frac{\\triangle t}{2\\triangle x}rs_k\\right)V^{n}_{k+1}\\\\\n",
        "&=A_k V^n_{k-1} +(1+B_k) V^n_{k}+C_k V^n_{k+1}\n",
        "\\end{align*}\n",
        "for $k=1, 2, ..., M-1$, where\n",
        "\\begin{align}\n",
        "A_k:=\\frac{\\triangle t}{\\triangle x^2}\\frac{\\sigma^2 s_k^2}{2}-\\frac{\\triangle t}{2\\triangle x}rs_k,\\qquad B_k:=-\\frac{ \\triangle t}{\\triangle x^2}\\sigma^2 s_k^2-\\triangle t r,\\qquad C_k:=\\frac{\\triangle t}{\\triangle x^2}\\frac{\\sigma^2 s_k^2}{2}+\\frac{\\triangle t}{2\\triangle x}rs_k\n",
        "\\end{align}"
      ]
    },
    {
      "cell_type": "code",
      "metadata": {
        "id": "ys-L62qLISv6",
        "colab_type": "code",
        "colab": {}
      },
      "source": [
        "# Set up the vectors A, B and C\n",
        "A = 0.5 * sigma**2 * dt / dx**2 * s**2 - 0.5 * r * dt/ dx * s\n",
        "B = - sigma**2 * dt / dx**2 * s**2 - r * dt\n",
        "C = 0.5 * sigma**2 * dt / dx**2 * s**2 + 0.5 * r * dt/ dx * s"
      ],
      "execution_count": null,
      "outputs": []
    },
    {
      "cell_type": "markdown",
      "metadata": {
        "id": "icDtg6RAIqcj",
        "colab_type": "text"
      },
      "source": [
        "Recall that the $M-1$ recursive equations can be summarised using matrix notation\n",
        "\\begin{align*}\n",
        "\\underbrace{\n",
        "\\begin{bmatrix}\n",
        "V^{n+1}_0 \\\\ \n",
        "V^{n+1}_1 \\\\ \n",
        "V^{n+1}_2 \\\\ \n",
        " \\vdots \\\\ \n",
        " \\vdots\\\\ \n",
        "V^{n+1}_{M-1}\\\\ \n",
        "V^{n+1}_M  \n",
        "\\end{bmatrix}}_{=:V^{n+1}}\n",
        "=\n",
        "\\underbrace{\n",
        "\\begin{bmatrix}\n",
        "1 & 0 & 0 &  \\cdots&  &  &  &0 &0\\\\ \n",
        "A^n_1 & 1+B^n_1 & C^n_1 & 0 & \\cdots &  &  &0 &0\\\\ \n",
        "0 & A^n_2 & 1+B^n_2 &C^n_2  & 0 &\\cdots  &  && \\\\ \n",
        " &  &  &  & \\ddots & &  &  & \\\\ \n",
        " \\vdots&  &  &  &  & A^n_{M-2} &  1+B^n_{M-2}& C^n_{M-2}& 0\\\\ \n",
        " &  &  &  &  &0 & A^n_{M-1} & 1+B^n_{M-1} & C^n_{M-1}\\\\ \n",
        " 0&0  &\\cdots  &  & & 0& 0 & 0 &1 \n",
        "\\end{bmatrix}}_{=:\\mathbb{I}+L^n}\n",
        "\\underbrace{\n",
        "\\begin{bmatrix}\n",
        "V^{n}_0 \\\\ \n",
        "V^{n}_1 \\\\ \n",
        "V^{n}_2 \\\\ \n",
        " \\vdots \\\\ \n",
        " \\vdots\\\\ \n",
        "V^{n}_{M-1}\\\\ \n",
        "V^{n}_M  \n",
        "\\end{bmatrix}}_{=:V^{n}}\n",
        "\\end{align*}\n",
        "Here $\\mathbb{I}$ is an $(M+1)\\times (M+1)$ identity matrix and $L^n$ is an $(M+1)\\times (M+1)$ matrix in form of\n",
        "\\begin{align}\n",
        "L^n:=\n",
        "\\begin{bmatrix}\n",
        "0 & 0 & 0 &  \\cdots&  &  &  &0 &0\\\\ \n",
        "A^n_1 & B^n_1 & C^n_1 & 0 & \\cdots &  &  &0 &0\\\\ \n",
        "0 & A^n_2 & B^n_2 &C^n_2  & 0 &\\cdots  &  && \\\\ \n",
        " &  &  &  & \\ddots & &  &  & \\\\ \n",
        " \\vdots&  &  &  &  & A^n_{M-2} &  B^n_{M-2}& C^n_{M-2}& 0\\\\ \n",
        " &  &  &  &  &0 & A^n_{M-1} & B^n_{M-1} & C^n_{M-1}\\\\ \n",
        " 0&0  &\\cdots  &  & & 0& 0 & 0 &0\n",
        "\\end{bmatrix}\n",
        "\\end{align}\n",
        "\n",
        "In our specific example, $A$, $B$ and $C$ (and in turn the matrix $L$) have no dependence on $n$ and hence can be pre-set before running the loop."
      ]
    },
    {
      "cell_type": "code",
      "metadata": {
        "id": "ofmZC51mJTyb",
        "colab_type": "code",
        "colab": {}
      },
      "source": [
        "# Setup the matrix L and I\n",
        "a_diag = np.concatenate([A[1:-1],[0]])\n",
        "b_diag = np.concatenate([[0],B[1:-1],[0]])\n",
        "c_diag = np.concatenate([[0],C[1:-1]])\n",
        "L = diags([a_diag, b_diag, c_diag], [-1, 0, 1]).toarray()\n",
        "I = np.identity(M+1)"
      ],
      "execution_count": null,
      "outputs": []
    },
    {
      "cell_type": "markdown",
      "metadata": {
        "id": "a0cTPFDSJ8Fd",
        "colab_type": "text"
      },
      "source": [
        "Recall that the system $V^{n+1}=(\\mathbb{I}+L^n) V^n$ doesn't give us the correct value of $V^{n+1}_0$ and $V^{n+1}_M$. We need to manually overwrite the first and last entry of the vector to incorporate the boundary conditions at $s=s_0=s_{min}$ and $s=s_M=s_{max}$. The complete recursive algorithm is: \n",
        "\\begin{align}\n",
        "V^{n+1}=B^{n+1}((\\mathbb{I}+L^n) V^{n})\n",
        "\\end{align}\n",
        "where $B^{n+1}(\\cdot)$ is an operator which overwrites the first and last entry of the input vector to $\\ell^{n+1}_0:=\\ell(t_{n+1},x_0)$ and $u^{n+1}_{M}:=u(t_{n+1},x_M)$."
      ]
    },
    {
      "cell_type": "code",
      "metadata": {
        "id": "U5y4lv_nKcDb",
        "colab_type": "code",
        "colab": {}
      },
      "source": [
        "# Running the explicit scheme\n",
        "\n",
        "# Initial condition\n",
        "v_ex = np.maximum(s - K, 0) # call option payoff\n",
        "\n",
        "# Iteration of explicit scheme\n",
        "for n in range(1,N+1):\n",
        "    v_ex = np.matmul(I+L, v_ex)           # V^{n+1} = (I+L)V^n\n",
        "    v_ex[0] = 0                           # Boundary operation at s_min\n",
        "    v_ex[M] = s_max - K*np.exp(-r*t[n])   # Boundary operation at s_max"
      ],
      "execution_count": null,
      "outputs": []
    },
    {
      "cell_type": "markdown",
      "metadata": {
        "id": "Y3I-lg0iS-3l",
        "colab_type": "text"
      },
      "source": [
        "# *Fully implicit scheme*\n",
        "\n",
        "Under fully implicit scheme the PDE is now discretised as\n",
        "\n",
        "\\begin{align*}\n",
        "\\frac{V^{n}_k-V^{n-1}_{k}}{\\triangle t}&=\\frac{\\sigma^2 s_k^2}{2}\\frac{V^{n}_{k+1}-2V^n_k+V^n_{k-1}}{\\triangle x^2}\n",
        "+rs_k \\frac{V^{n}_{k+1}-V^n_{k-1}}{2\\triangle x}-r V^n_k \\\\\n",
        "\\implies \\quad V^{n-1}_k&=-\\left(\\frac{\\triangle t}{\\triangle x^2}\\frac{\\sigma^2 s_k^2}{2}-\\frac{\\triangle t}{2\\triangle x}rs_k\\right)V^{n}_{k-1}+\\left(1+\\frac{ \\triangle t}{\\triangle x^2}\\sigma^2 s_k^2+\\triangle t r\\right)V^n_k\\\\\n",
        "&\\qquad -\\left(\\frac{\\triangle t}{\\triangle x^2}\\frac{\\sigma^2 s_k^2}{2}+\\frac{\\triangle t}{2\\triangle x}rs_k\\right)V^{n}_{k+1}\\\\\n",
        "&=-A_k V^n_{k-1} +(1-B_k) V^n_{k}-C_k V^n_{k+1}\n",
        "\\end{align*}\n",
        "for $A$, $B$ and $C$ are defined previously. After taking boundary condition into account, a matrix representation is\n",
        "\\begin{align*}\n",
        "\\begin{bmatrix}\n",
        "1 & 0 & 0 &  \\cdots&  &  &  &0 &0\\\\ \n",
        "-A^n_1 & 1-B^n_1 & -C^n_1 & 0 & \\cdots &  &  &0 &0\\\\ \n",
        "0 & -A^n_2 & 1-B^n_2 &-C^n_2  & 0 &\\cdots  &  && \\\\ \n",
        " &  &  &  & \\ddots & &  &  & \\\\ \n",
        " \\vdots&  &  &  &  & -A^n_k &  1-B^n_k& -C^n_k& 0\\\\ \n",
        " &  &  &  &  & 0& -A^n_{M-1} & 1-B^n_{M-1} & -C^n_{M-1}\\\\ \n",
        " 0&0  &\\cdots  &  & & 0& 0 & 0 &1 \n",
        "\\end{bmatrix}\n",
        "\\begin{bmatrix}\n",
        "V^{n}_0 \\\\ \n",
        "V^{n}_1 \\\\ \n",
        "V^{n}_2 \\\\ \n",
        " \\vdots \\\\ \n",
        " \\vdots\\\\ \n",
        "V^{n}_{M-1}\\\\ \n",
        "V^{n}_M  \n",
        "\\end{bmatrix}\n",
        "=\n",
        "\\begin{bmatrix}\n",
        "\\ell^{n}_0 \\\\ \n",
        "V^{n-1}_1 \\\\ \n",
        "V^{n-1}_2 \\\\ \n",
        " \\vdots \\\\ \n",
        " \\vdots\\\\ \n",
        "V^{n-1}_{M-1}\\\\ \n",
        "u^{n}_M  \n",
        "\\end{bmatrix}\n",
        "\\end{align*}\n",
        "In matrix form, it can be represented as\n",
        "\\begin{align}\n",
        "(\\mathbb{I}-L^{n})V^{n}=B^{n}(V^{n-1}).\n",
        "\\end{align}\n",
        "\n",
        "To solve $V^{n}$, we implement the Thomas algorithm which solves system of equation $Ax=d$ with $A$ being a tridiagonal matrix of the form\n",
        "\\begin{align*}\n",
        "\\begin{bmatrix}\n",
        "b_0 & c_0 & 0 &  \\cdots&  &  &  &0 &0 \\\\ \n",
        "a_1 & b_1 & c_1 & 0 & \\cdots &  &  &0 &0 \\\\ \n",
        "0 & a_2 & b_2 &c_2  & 0 &\\cdots  &  & &  \\\\ \n",
        " &  &  &  & \\ddots & &  &  &   \\vdots\\\\ \n",
        " \\vdots&  &  &  &  & a_{M-2} & b_{M-2}& c_{M-2}& 0 \\\\ \n",
        " &  &  &  &  & 0& a_{M-1} & b_{M-1} & c_{M-1} \\\\ \n",
        " 0&0  &\\cdots  &  & & 0& 0 & a_M &b_M \n",
        "\\end{bmatrix}\n",
        "\\end{align*}"
      ]
    },
    {
      "cell_type": "code",
      "metadata": {
        "id": "r50pMg3aUxRW",
        "colab_type": "code",
        "colab": {}
      },
      "source": [
        "# Tridiagional matrix solver. a, b, c are the low, mid and high diagional of the matrix\n",
        "# d is the constant vector on the RHS\n",
        "#(copied shamelessly from https://gist.github.com/cbellei/8ab3ab8551b8dfc8b081c518ccd9ada9)\n",
        "def TDMAsolver(a, b, c, d):\n",
        "\n",
        "    nf = len(d) # number of equations\n",
        "    ac, bc, cc, dc = map(np.array, (a, b, c, d)) # copy arrays\n",
        "    for it in range(1, nf):\n",
        "        mc = ac[it-1]/bc[it-1]\n",
        "        bc[it] = bc[it] - mc*cc[it-1] \n",
        "        dc[it] = dc[it] - mc*dc[it-1]\n",
        "        \t    \n",
        "    xc = bc\n",
        "    xc[-1] = dc[-1]/bc[-1]\n",
        "\n",
        "    for il in range(nf-2, -1, -1):\n",
        "        xc[il] = (dc[il]-cc[il]*xc[il+1])/bc[il]\n",
        "\n",
        "    return xc"
      ],
      "execution_count": null,
      "outputs": []
    },
    {
      "cell_type": "markdown",
      "metadata": {
        "id": "LZUcazZDWSLQ",
        "colab_type": "text"
      },
      "source": [
        "Now we run the iteration to solve the resursion\n",
        "\\begin{align}\n",
        "(\\mathbb{I}-L^{n})V^{n}=B^{n}(V^{n-1}).\n",
        "\\end{align}"
      ]
    },
    {
      "cell_type": "code",
      "metadata": {
        "id": "HT0KAhhFUsJw",
        "colab_type": "code",
        "colab": {}
      },
      "source": [
        "# Running the implicit scheme\n",
        "\n",
        "# Initial condition\n",
        "v_im = np.maximum(s - K, 0)\n",
        "\n",
        "# Iteration of implicit scheme\n",
        "for n in range(1,N+1):\n",
        "    \n",
        "    d = v_im   # The RHS of the system of equations is V^{n-1}\n",
        "    d[0] = 0   # Boundary operator at s_min\n",
        "    d[M] = s_max - K*np.exp(-r*t[n])  # Boundary operator at s_min\n",
        "    v_im = TDMAsolver(-a_diag, 1-b_diag, -c_diag, d)   # Run the Thomas algorithm to solve for V^n"
      ],
      "execution_count": null,
      "outputs": []
    },
    {
      "cell_type": "markdown",
      "metadata": {
        "id": "T2r7vEU_WeHl",
        "colab_type": "text"
      },
      "source": [
        "# **Comparision against Black-Scholes**\n",
        "\n",
        "We compare the our finite difference approximations against that of the Black-Scholes solution."
      ]
    },
    {
      "cell_type": "code",
      "metadata": {
        "id": "HVt-SnZRWiHn",
        "colab_type": "code",
        "colab": {
          "base_uri": "https://localhost:8080/",
          "height": 282
        },
        "outputId": "9161d8e5-baa6-484e-e100-d9543fb150a5"
      },
      "source": [
        "# Black-Scholes call option formula\n",
        "def euro_vanilla_call(S, K, T, r, sigma):\n",
        "        \n",
        "    d1 = (np.log(S / K) + (r + 0.5 * sigma ** 2) * T) / (sigma * np.sqrt(T))\n",
        "    d2 = (np.log(S / K) + (r - 0.5 * sigma ** 2) * T) / (sigma * np.sqrt(T))\n",
        "    call = (S * si.norm.cdf(d1, 0.0, 1.0) - K * np.exp(-r * T) * si.norm.cdf(d2, 0.0, 1.0))\n",
        "    \n",
        "    return call\n",
        "\n",
        "bscall = euro_vanilla_call(s, K, T, r, sigma)\n",
        "\n",
        "# Plot the results under explicit and fully implicit scheme\n",
        "fig, ax = plt.subplots()\n",
        "ax.plot(s, bscall, 'k-', label=\"Black-Scholes\")\n",
        "ax.plot(s, v_im, '.', linewidth=0.5, label=\"Fully implicit\")\n",
        "ax.plot(s, v_ex, 'x', linewidth=0.5, label=\"Explicit\")\n",
        "ax.legend()"
      ],
      "execution_count": null,
      "outputs": [
        {
          "output_type": "execute_result",
          "data": {
            "text/plain": [
              "<matplotlib.legend.Legend at 0x7fcd71233d30>"
            ]
          },
          "metadata": {
            "tags": []
          },
          "execution_count": 145
        },
        {
          "output_type": "display_data",
          "data": {
            "image/png": "[encoded data removed]",
            "text/plain": [
              "<Figure size 432x288 with 1 Axes>"
            ]
          },
          "metadata": {
            "tags": []
          }
        }
      ]
    }
  ]
}